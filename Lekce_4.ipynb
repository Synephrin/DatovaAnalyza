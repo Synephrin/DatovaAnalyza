{
 "cells": [
  {
   "cell_type": "code",
   "execution_count": 1,
   "id": "86a5bd65-8e86-44fa-a8e0-16aaba188c92",
   "metadata": {},
   "outputs": [],
   "source": [
    "import pandas as pd"
   ]
  },
  {
   "cell_type": "code",
   "execution_count": 2,
   "id": "d7c2a17f-c131-489b-99c2-3fa576a43a4f",
   "metadata": {},
   "outputs": [],
   "source": [
    "prices = [1,2,3]"
   ]
  },
  {
   "cell_type": "code",
   "execution_count": 3,
   "id": "7ed7814f-0196-41e1-9a9d-84277a84b1af",
   "metadata": {},
   "outputs": [],
   "source": [
    "prices_s = pd.Series(prices)"
   ]
  },
  {
   "cell_type": "code",
   "execution_count": 4,
   "id": "a97d16c0-0fcc-421c-996f-8e5829fb162a",
   "metadata": {},
   "outputs": [
    {
     "data": {
      "text/plain": [
       "0    1\n",
       "1    2\n",
       "2    3\n",
       "dtype: int64"
      ]
     },
     "execution_count": 4,
     "metadata": {},
     "output_type": "execute_result"
    }
   ],
   "source": [
    "prices_s"
   ]
  },
  {
   "cell_type": "code",
   "execution_count": 5,
   "id": "5fa3a1e9-0148-4ce0-8247-b64a3bcbbdca",
   "metadata": {},
   "outputs": [
    {
     "data": {
      "text/plain": [
       "np.int64(6)"
      ]
     },
     "execution_count": 5,
     "metadata": {},
     "output_type": "execute_result"
    }
   ],
   "source": [
    "prices_s.sum()"
   ]
  },
  {
   "cell_type": "code",
   "execution_count": 6,
   "id": "949d0090-b599-42c7-b796-eea038e9bde0",
   "metadata": {},
   "outputs": [
    {
     "data": {
      "text/plain": [
       "np.float64(2.0)"
      ]
     },
     "execution_count": 6,
     "metadata": {},
     "output_type": "execute_result"
    }
   ],
   "source": [
    "prices_s.mean()"
   ]
  },
  {
   "cell_type": "code",
   "execution_count": 7,
   "id": "9fb3cfbc-e0ac-4690-9953-4b79e1e6c391",
   "metadata": {},
   "outputs": [
    {
     "data": {
      "text/plain": [
       "np.int64(6)"
      ]
     },
     "execution_count": 7,
     "metadata": {},
     "output_type": "execute_result"
    }
   ],
   "source": [
    "prices_s.product()"
   ]
  },
  {
   "cell_type": "code",
   "execution_count": 8,
   "id": "d07b2376-dbcc-4734-ac92-fcaeb25ca449",
   "metadata": {},
   "outputs": [],
   "source": [
    "instrument_list = [\"klavír\",\"kytara\",\"bicí\",\"trubka\",\"flétna\"]"
   ]
  },
  {
   "cell_type": "code",
   "execution_count": 9,
   "id": "4d73db0e-d62b-43c9-9e95-8f1a94046d28",
   "metadata": {},
   "outputs": [],
   "source": [
    "instrument_list_series = pd.Series(instrument_list)"
   ]
  },
  {
   "cell_type": "code",
   "execution_count": 10,
   "id": "167f3e75-98d5-4aea-b3ad-a032fcc1d305",
   "metadata": {},
   "outputs": [
    {
     "data": {
      "text/plain": [
       "0    klavír\n",
       "1    kytara\n",
       "2      bicí\n",
       "3    trubka\n",
       "4    flétna\n",
       "dtype: object"
      ]
     },
     "execution_count": 10,
     "metadata": {},
     "output_type": "execute_result"
    }
   ],
   "source": [
    "instrument_list_series"
   ]
  },
  {
   "cell_type": "code",
   "execution_count": 12,
   "id": "1c9e4a3d-2fe6-4045-b297-03350188da26",
   "metadata": {},
   "outputs": [
    {
     "data": {
      "text/plain": [
       "0    klavír\n",
       "1    kytara\n",
       "2      bicí\n",
       "3    trubka\n",
       "4    flétna\n",
       "dtype: object"
      ]
     },
     "execution_count": 12,
     "metadata": {},
     "output_type": "execute_result"
    }
   ],
   "source": [
    "instrument_list_series.str.lower()"
   ]
  },
  {
   "cell_type": "code",
   "execution_count": 13,
   "id": "321d1375-d2f7-42d5-9a72-df1b5f1432c0",
   "metadata": {},
   "outputs": [
    {
     "data": {
      "text/plain": [
       "0    KLAVÍR\n",
       "1    KYTARA\n",
       "2      BICÍ\n",
       "3    TRUBKA\n",
       "4    FLÉTNA\n",
       "dtype: object"
      ]
     },
     "execution_count": 13,
     "metadata": {},
     "output_type": "execute_result"
    }
   ],
   "source": [
    "instrument_list_series.str.upper()"
   ]
  },
  {
   "cell_type": "code",
   "execution_count": 14,
   "id": "f51e7b45-2ee5-4979-a364-db4bf9e5fb98",
   "metadata": {},
   "outputs": [
    {
     "data": {
      "text/plain": [
       "0     True\n",
       "1     True\n",
       "2    False\n",
       "3     True\n",
       "4     True\n",
       "dtype: bool"
      ]
     },
     "execution_count": 14,
     "metadata": {},
     "output_type": "execute_result"
    }
   ],
   "source": [
    "instrument_list_series.str.contains(\"a\")"
   ]
  },
  {
   "cell_type": "code",
   "execution_count": 15,
   "id": "4c3ad807-8a8e-4ee7-81d1-1eaeebc2df84",
   "metadata": {},
   "outputs": [
    {
     "data": {
      "text/plain": [
       "0    1\n",
       "1    2\n",
       "2    0\n",
       "3    1\n",
       "4    1\n",
       "dtype: int64"
      ]
     },
     "execution_count": 15,
     "metadata": {},
     "output_type": "execute_result"
    }
   ],
   "source": [
    "instrument_list_series.str.count(\"a\")"
   ]
  },
  {
   "cell_type": "code",
   "execution_count": 16,
   "id": "667c244b-7b97-4219-9e00-6dd53f2ce004",
   "metadata": {},
   "outputs": [
    {
     "data": {
      "text/plain": [
       "'klavír:kytara:bicí:trubka:flétna'"
      ]
     },
     "execution_count": 16,
     "metadata": {},
     "output_type": "execute_result"
    }
   ],
   "source": [
    "instrument_list_series.str.cat(sep=\":\")"
   ]
  },
  {
   "cell_type": "code",
   "execution_count": null,
   "id": "7159dab9-ee07-403d-9bc9-24951080c442",
   "metadata": {},
   "outputs": [],
   "source": []
  }
 ],
 "metadata": {
  "kernelspec": {
   "display_name": "Python 3 (ipykernel)",
   "language": "python",
   "name": "python3"
  },
  "language_info": {
   "codemirror_mode": {
    "name": "ipython",
    "version": 3
   },
   "file_extension": ".py",
   "mimetype": "text/x-python",
   "name": "python",
   "nbconvert_exporter": "python",
   "pygments_lexer": "ipython3",
   "version": "3.13.9"
  }
 },
 "nbformat": 4,
 "nbformat_minor": 5
}
