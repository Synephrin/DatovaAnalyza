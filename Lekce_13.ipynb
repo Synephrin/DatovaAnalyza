{
 "cells": [
  {
   "cell_type": "code",
   "execution_count": 1,
   "id": "dd29bddf-e08e-4078-89d1-0c8d64d19c27",
   "metadata": {},
   "outputs": [],
   "source": [
    "import pandas as pd"
   ]
  },
  {
   "cell_type": "code",
   "execution_count": 2,
   "id": "7b08f06b-ae5b-459e-9f63-0577bb90df5d",
   "metadata": {},
   "outputs": [],
   "source": [
    "bank_users = pd.read_csv(\"bank_users.csv\")[\"last_name\"]"
   ]
  },
  {
   "cell_type": "code",
   "execution_count": 3,
   "id": "1f204199-b0c2-476d-bdf3-842caa81898d",
   "metadata": {},
   "outputs": [
    {
     "data": {
      "text/plain": [
       "0         Gotts\n",
       "1        Linsey\n",
       "2        Gorton\n",
       "3      Steanyng\n",
       "4      Cockaday\n",
       "         ...   \n",
       "195        Oppy\n",
       "196     Labbati\n",
       "197     Cordery\n",
       "198    Laughren\n",
       "199     Peckitt\n",
       "Name: last_name, Length: 200, dtype: object"
      ]
     },
     "execution_count": 3,
     "metadata": {},
     "output_type": "execute_result"
    }
   ],
   "source": [
    "bank_users"
   ]
  },
  {
   "cell_type": "code",
   "execution_count": 5,
   "id": "c1a93216-9050-4dc5-b59d-9fda149895ad",
   "metadata": {},
   "outputs": [
    {
     "data": {
      "text/plain": [
       "'Gotts'"
      ]
     },
     "execution_count": 5,
     "metadata": {},
     "output_type": "execute_result"
    }
   ],
   "source": [
    "bank_users.iloc[0]"
   ]
  },
  {
   "cell_type": "code",
   "execution_count": 6,
   "id": "52823f4c-ebde-4a1d-b3ad-68df98b206c1",
   "metadata": {},
   "outputs": [
    {
     "data": {
      "text/plain": [
       "'Simonett'"
      ]
     },
     "execution_count": 6,
     "metadata": {},
     "output_type": "execute_result"
    }
   ],
   "source": [
    "bank_users.iloc[5]"
   ]
  },
  {
   "cell_type": "code",
   "execution_count": 8,
   "id": "e05e84ab-6395-4bc9-8fe2-8ec44a40095b",
   "metadata": {},
   "outputs": [
    {
     "data": {
      "text/plain": [
       "10      Robley\n",
       "20        Meak\n",
       "30    Cathenod\n",
       "Name: last_name, dtype: object"
      ]
     },
     "execution_count": 8,
     "metadata": {},
     "output_type": "execute_result"
    }
   ],
   "source": [
    "bank_users.iloc[[10,20,30]]"
   ]
  },
  {
   "cell_type": "code",
   "execution_count": 9,
   "id": "3ec57124-3443-4d22-bfb8-2626785549b1",
   "metadata": {},
   "outputs": [
    {
     "data": {
      "text/plain": [
       "10          Robley\n",
       "11          Carbin\n",
       "12         Ashling\n",
       "13             Boc\n",
       "14        Lomansey\n",
       "15        Youngman\n",
       "16    Grichukhanov\n",
       "17        Baldcock\n",
       "18        Lattimer\n",
       "19         Slocumb\n",
       "Name: last_name, dtype: object"
      ]
     },
     "execution_count": 9,
     "metadata": {},
     "output_type": "execute_result"
    }
   ],
   "source": [
    "bank_users.iloc[10:20]"
   ]
  },
  {
   "cell_type": "code",
   "execution_count": 10,
   "id": "249edd5e-5f6e-4699-9b34-e4f138a51322",
   "metadata": {},
   "outputs": [
    {
     "data": {
      "text/plain": [
       "150        Mollindinia\n",
       "151          Maskelyne\n",
       "152                Doe\n",
       "153            Gwillym\n",
       "154          Strickler\n",
       "155         Sandercock\n",
       "156             Tawton\n",
       "157            Perrone\n",
       "158          Twitching\n",
       "159              Garey\n",
       "160           Grangier\n",
       "161           Sherborn\n",
       "162             Norrie\n",
       "163            Meriott\n",
       "164            Burkman\n",
       "165           Ilymanov\n",
       "166            Maurice\n",
       "167         Auchinleck\n",
       "168          Gainsford\n",
       "169           Costanza\n",
       "170              Baile\n",
       "171            Trebble\n",
       "172             Rolles\n",
       "173           Alyokhin\n",
       "174            Knagges\n",
       "175          Simchenko\n",
       "176           Lorriman\n",
       "177             Wickey\n",
       "178           Glaister\n",
       "179               Brok\n",
       "180            Hurling\n",
       "181              Linck\n",
       "182             Goldby\n",
       "183            Pittman\n",
       "184           Ancliffe\n",
       "185    Falconer-Taylor\n",
       "186             Sproul\n",
       "187            Sircomb\n",
       "188            Yglesia\n",
       "189            Slocumb\n",
       "190         Whitchurch\n",
       "191             Wraith\n",
       "192           Chastand\n",
       "193          Gavrielly\n",
       "194               Stow\n",
       "195               Oppy\n",
       "196            Labbati\n",
       "197            Cordery\n",
       "198           Laughren\n",
       "199            Peckitt\n",
       "Name: last_name, dtype: object"
      ]
     },
     "execution_count": 10,
     "metadata": {},
     "output_type": "execute_result"
    }
   ],
   "source": [
    "bank_users.iloc[150:]"
   ]
  },
  {
   "cell_type": "code",
   "execution_count": 11,
   "id": "40f02163-e44a-4fb1-9efa-3f6ce764a3d1",
   "metadata": {},
   "outputs": [
    {
     "data": {
      "text/plain": [
       "0        Gotts\n",
       "1       Linsey\n",
       "2       Gorton\n",
       "3     Steanyng\n",
       "4     Cockaday\n",
       "5     Simonett\n",
       "6      Frankom\n",
       "7      Terbeck\n",
       "8    Blenkhorn\n",
       "9      Gibberd\n",
       "Name: last_name, dtype: object"
      ]
     },
     "execution_count": 11,
     "metadata": {},
     "output_type": "execute_result"
    }
   ],
   "source": [
    "bank_users.iloc[:10]"
   ]
  },
  {
   "cell_type": "code",
   "execution_count": 12,
   "id": "c73aae95-0c37-473f-9c02-d1ee0dedd3c1",
   "metadata": {},
   "outputs": [
    {
     "data": {
      "text/plain": [
       "'Peckitt'"
      ]
     },
     "execution_count": 12,
     "metadata": {},
     "output_type": "execute_result"
    }
   ],
   "source": [
    "bank_users.iloc[-1]"
   ]
  },
  {
   "cell_type": "code",
   "execution_count": 13,
   "id": "887af2bc-1ad7-4015-8493-7dc6f112611a",
   "metadata": {},
   "outputs": [
    {
     "data": {
      "text/plain": [
       "'Laughren'"
      ]
     },
     "execution_count": 13,
     "metadata": {},
     "output_type": "execute_result"
    }
   ],
   "source": [
    "bank_users.iloc[-2]"
   ]
  },
  {
   "cell_type": "code",
   "execution_count": 14,
   "id": "e96af857-4ad5-4f70-835c-371d7198a4b5",
   "metadata": {},
   "outputs": [
    {
     "data": {
      "text/plain": [
       "190    Whitchurch\n",
       "191        Wraith\n",
       "192      Chastand\n",
       "193     Gavrielly\n",
       "194          Stow\n",
       "Name: last_name, dtype: object"
      ]
     },
     "execution_count": 14,
     "metadata": {},
     "output_type": "execute_result"
    }
   ],
   "source": [
    "bank_users.iloc[-10:-5]"
   ]
  },
  {
   "cell_type": "code",
   "execution_count": null,
   "id": "a14c96e2-aba1-4f1a-9382-d6c38f6c96f5",
   "metadata": {},
   "outputs": [],
   "source": []
  }
 ],
 "metadata": {
  "kernelspec": {
   "display_name": "Python 3 (ipykernel)",
   "language": "python",
   "name": "python3"
  },
  "language_info": {
   "codemirror_mode": {
    "name": "ipython",
    "version": 3
   },
   "file_extension": ".py",
   "mimetype": "text/x-python",
   "name": "python",
   "nbconvert_exporter": "python",
   "pygments_lexer": "ipython3",
   "version": "3.13.9"
  }
 },
 "nbformat": 4,
 "nbformat_minor": 5
}
