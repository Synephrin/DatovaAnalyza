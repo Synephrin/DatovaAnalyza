{
 "cells": [
  {
   "cell_type": "code",
   "execution_count": 1,
   "id": "28b15c60-61db-4d09-a887-36f4325f7965",
   "metadata": {},
   "outputs": [],
   "source": [
    "import pandas as pd"
   ]
  },
  {
   "cell_type": "code",
   "execution_count": 2,
   "id": "08c4f7e6-edb9-43d0-b0be-3ea32124444a",
   "metadata": {},
   "outputs": [],
   "source": [
    "fruit = [\"jablko\",\"banán\",\"pomeranč\",\"kiwi\"]"
   ]
  },
  {
   "cell_type": "code",
   "execution_count": 3,
   "id": "11c7bf62-b4f8-4f8b-ae68-9dd4244defe7",
   "metadata": {},
   "outputs": [],
   "source": [
    "fruit_s = pd.Series(fruit)"
   ]
  },
  {
   "cell_type": "code",
   "execution_count": 4,
   "id": "cbb97a2f-3cc9-4af9-92da-e0655e447aed",
   "metadata": {},
   "outputs": [
    {
     "data": {
      "text/plain": [
       "0      jablko\n",
       "1       banán\n",
       "2    pomeranč\n",
       "3        kiwi\n",
       "dtype: object"
      ]
     },
     "execution_count": 4,
     "metadata": {},
     "output_type": "execute_result"
    }
   ],
   "source": [
    "fruit_s"
   ]
  },
  {
   "cell_type": "code",
   "execution_count": 5,
   "id": "bf326b6d-3339-4a63-b5e4-cf0473ae977c",
   "metadata": {},
   "outputs": [],
   "source": [
    "shoe_size = [38,39,40,41]\n",
    "shoe_size_s = pd.Series(shoe_size)"
   ]
  },
  {
   "cell_type": "code",
   "execution_count": 6,
   "id": "a7c77de9-5e0e-4a27-a8e8-0c416dda701e",
   "metadata": {},
   "outputs": [
    {
     "name": "stdout",
     "output_type": "stream",
     "text": [
      "0    38\n",
      "1    39\n",
      "2    40\n",
      "3    41\n",
      "dtype: int64\n"
     ]
    }
   ],
   "source": [
    "print(shoe_size_s)"
   ]
  },
  {
   "cell_type": "code",
   "execution_count": 7,
   "id": "a10c6b40-8539-4e4d-af08-05dc504f55de",
   "metadata": {},
   "outputs": [
    {
     "data": {
      "text/plain": [
       "0     True\n",
       "1    False\n",
       "2    False\n",
       "3     True\n",
       "dtype: bool"
      ]
     },
     "execution_count": 7,
     "metadata": {},
     "output_type": "execute_result"
    }
   ],
   "source": [
    "vip = [True, False, False, True]\n",
    "vip_s = pd.Series(vip)\n",
    "vip_s"
   ]
  },
  {
   "cell_type": "code",
   "execution_count": null,
   "id": "ae09b3ce-1cfa-4371-bdae-e0e2a09879eb",
   "metadata": {},
   "outputs": [],
   "source": []
  }
 ],
 "metadata": {
  "kernelspec": {
   "display_name": "Python 3 (ipykernel)",
   "language": "python",
   "name": "python3"
  },
  "language_info": {
   "codemirror_mode": {
    "name": "ipython",
    "version": 3
   },
   "file_extension": ".py",
   "mimetype": "text/x-python",
   "name": "python",
   "nbconvert_exporter": "python",
   "pygments_lexer": "ipython3",
   "version": "3.13.9"
  }
 },
 "nbformat": 4,
 "nbformat_minor": 5
}
