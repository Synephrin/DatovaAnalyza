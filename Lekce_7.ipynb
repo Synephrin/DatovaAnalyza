{
 "cells": [
  {
   "cell_type": "code",
   "execution_count": 1,
   "id": "c30a2acf-efb7-49b7-b936-1a8d2cc0d595",
   "metadata": {},
   "outputs": [],
   "source": [
    "import pandas as pd"
   ]
  },
  {
   "cell_type": "code",
   "execution_count": 2,
   "id": "e5cdc5c3-b9af-44b2-becf-b432257a1c15",
   "metadata": {},
   "outputs": [],
   "source": [
    "bank_machine_003 = [1000, 2000, 1500, 2000, 8000, 10000, 2500]"
   ]
  },
  {
   "cell_type": "code",
   "execution_count": 3,
   "id": "9649c00a-aaff-4d29-a711-8babf6ab7184",
   "metadata": {},
   "outputs": [],
   "source": [
    "bank_machine_003_s = pd.Series(bank_machine_003)"
   ]
  },
  {
   "cell_type": "code",
   "execution_count": 4,
   "id": "e5e01475-2d61-4d97-8a33-42672cc4e96d",
   "metadata": {},
   "outputs": [
    {
     "data": {
      "text/plain": [
       "np.int64(27000)"
      ]
     },
     "execution_count": 4,
     "metadata": {},
     "output_type": "execute_result"
    }
   ],
   "source": [
    "bank_machine_003_s.sum()"
   ]
  },
  {
   "cell_type": "code",
   "execution_count": 6,
   "id": "23454f73-6d1b-4457-9aaa-da3793b11180",
   "metadata": {},
   "outputs": [
    {
     "data": {
      "text/plain": [
       "np.float64(3857.1428571428573)"
      ]
     },
     "execution_count": 6,
     "metadata": {},
     "output_type": "execute_result"
    }
   ],
   "source": [
    "bank_machine_003_s.mean()"
   ]
  },
  {
   "cell_type": "code",
   "execution_count": 7,
   "id": "13f65127-afd4-4518-8ad2-887fdbd4199b",
   "metadata": {},
   "outputs": [
    {
     "data": {
      "text/plain": [
       "7"
      ]
     },
     "execution_count": 7,
     "metadata": {},
     "output_type": "execute_result"
    }
   ],
   "source": [
    "bank_machine_003_s.size"
   ]
  },
  {
   "cell_type": "code",
   "execution_count": 8,
   "id": "ea4fa49a-0240-4aa0-aa88-a96375e58655",
   "metadata": {},
   "outputs": [],
   "source": [
    "bank_machine_003_dates = ['1.1', '3.1', '3.1', '4.1', '6.1', '9.1', '10.1']\n"
   ]
  },
  {
   "cell_type": "code",
   "execution_count": 9,
   "id": "96019fca-8cfb-40f1-884c-9640da16bd30",
   "metadata": {},
   "outputs": [],
   "source": [
    "new_series = pd.Series(index=bank_machine_003_dates, data=bank_machine_003)"
   ]
  },
  {
   "cell_type": "code",
   "execution_count": 10,
   "id": "2ba26852-f971-4e21-99cf-9bc11bd7496f",
   "metadata": {},
   "outputs": [
    {
     "name": "stdout",
     "output_type": "stream",
     "text": [
      "1.1      1000\n",
      "3.1      2000\n",
      "3.1      1500\n",
      "4.1      2000\n",
      "6.1      8000\n",
      "9.1     10000\n",
      "10.1     2500\n",
      "dtype: int64\n"
     ]
    }
   ],
   "source": [
    "print(new_series)"
   ]
  },
  {
   "cell_type": "code",
   "execution_count": null,
   "id": "48ae0338-8ea2-4315-b95c-1118bae54fa2",
   "metadata": {},
   "outputs": [],
   "source": []
  }
 ],
 "metadata": {
  "kernelspec": {
   "display_name": "Python 3 (ipykernel)",
   "language": "python",
   "name": "python3"
  },
  "language_info": {
   "codemirror_mode": {
    "name": "ipython",
    "version": 3
   },
   "file_extension": ".py",
   "mimetype": "text/x-python",
   "name": "python",
   "nbconvert_exporter": "python",
   "pygments_lexer": "ipython3",
   "version": "3.13.9"
  }
 },
 "nbformat": 4,
 "nbformat_minor": 5
}
