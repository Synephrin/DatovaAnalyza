{
 "cells": [
  {
   "cell_type": "code",
   "execution_count": 1,
   "id": "47914608-86c5-45ea-8a3f-a09fc955dd48",
   "metadata": {},
   "outputs": [],
   "source": [
    "country_population = {\n",
    "    \"Česká Republika\": 10.7,\n",
    "    \"Slovensko\": 5.4,\n",
    "    \"Neměcko\": 83,\n",
    "    \"Polsko\": 38\n",
    "}"
   ]
  },
  {
   "cell_type": "code",
   "execution_count": 2,
   "id": "16e9e6cb-ead8-47a4-927d-81e1f6a53769",
   "metadata": {},
   "outputs": [],
   "source": [
    "technology_list = [\"smartphone\", \"laptop\", \"dron\", \"virtuální realita\",\"3D tiskárna\"]"
   ]
  },
  {
   "cell_type": "code",
   "execution_count": 3,
   "id": "fed88e4a-fe80-416d-8a27-7c9a8fa84156",
   "metadata": {},
   "outputs": [],
   "source": [
    "instument_list = [\"klavír\", \"kytara\",\"bicí\",\"trubka\", \"flétna\"]"
   ]
  },
  {
   "cell_type": "code",
   "execution_count": 4,
   "id": "916c7a5b-53a1-4fca-80db-3e680ace2ada",
   "metadata": {},
   "outputs": [],
   "source": [
    "import pandas as pd"
   ]
  },
  {
   "cell_type": "code",
   "execution_count": 5,
   "id": "53285bf7-255a-4cc5-ba6c-c1b8cb2755ff",
   "metadata": {},
   "outputs": [],
   "source": [
    "country_population_s = pd.Series(country_population)"
   ]
  },
  {
   "cell_type": "code",
   "execution_count": 6,
   "id": "fe379c84-7490-4223-97d8-482d4f67c8e9",
   "metadata": {},
   "outputs": [
    {
     "data": {
      "text/plain": [
       "Česká Republika    10.7\n",
       "Slovensko           5.4\n",
       "Neměcko            83.0\n",
       "Polsko             38.0\n",
       "dtype: float64"
      ]
     },
     "execution_count": 6,
     "metadata": {},
     "output_type": "execute_result"
    }
   ],
   "source": [
    "country_population_s"
   ]
  },
  {
   "cell_type": "code",
   "execution_count": 7,
   "id": "7315f776-227a-4fed-897e-cae0767ed7a6",
   "metadata": {},
   "outputs": [],
   "source": [
    "technology_list_s = pd.Series(technology_list)"
   ]
  },
  {
   "cell_type": "code",
   "execution_count": 8,
   "id": "af5b50e3-8143-45a8-8784-3d866373ab95",
   "metadata": {},
   "outputs": [
    {
     "data": {
      "text/plain": [
       "0           smartphone\n",
       "1               laptop\n",
       "2                 dron\n",
       "3    virtuální realita\n",
       "4          3D tiskárna\n",
       "dtype: object"
      ]
     },
     "execution_count": 8,
     "metadata": {},
     "output_type": "execute_result"
    }
   ],
   "source": [
    "technology_list_s"
   ]
  },
  {
   "cell_type": "code",
   "execution_count": 9,
   "id": "9ef0dff2-d2f3-4278-8336-5979eba5ae81",
   "metadata": {},
   "outputs": [
    {
     "ename": "NameError",
     "evalue": "name 'instrument_list' is not defined",
     "output_type": "error",
     "traceback": [
      "\u001b[31m---------------------------------------------------------------------------\u001b[39m",
      "\u001b[31mNameError\u001b[39m                                 Traceback (most recent call last)",
      "\u001b[36mCell\u001b[39m\u001b[36m \u001b[39m\u001b[32mIn[9]\u001b[39m\u001b[32m, line 1\u001b[39m\n\u001b[32m----> \u001b[39m\u001b[32m1\u001b[39m instrument_list_s = pd.Series(\u001b[43minstrument_list\u001b[49m)\n",
      "\u001b[31mNameError\u001b[39m: name 'instrument_list' is not defined"
     ]
    }
   ],
   "source": [
    "instrument_list_s = pd.Series(instrument_list)"
   ]
  },
  {
   "cell_type": "code",
   "execution_count": 10,
   "id": "e775a957-2641-4ca6-a751-5c11cc6ab5f0",
   "metadata": {},
   "outputs": [],
   "source": [
    "instrument_list_s = pd.Series(instument_list)"
   ]
  },
  {
   "cell_type": "code",
   "execution_count": 11,
   "id": "0e26395a-cb92-4d0b-8a97-f89014db2ede",
   "metadata": {},
   "outputs": [
    {
     "data": {
      "text/plain": [
       "0    klavír\n",
       "1    kytara\n",
       "2      bicí\n",
       "3    trubka\n",
       "4    flétna\n",
       "dtype: object"
      ]
     },
     "execution_count": 11,
     "metadata": {},
     "output_type": "execute_result"
    }
   ],
   "source": [
    "instrument_list_s"
   ]
  },
  {
   "cell_type": "code",
   "execution_count": null,
   "id": "f360281e-4673-42d0-b602-5a4dd03135ad",
   "metadata": {},
   "outputs": [],
   "source": []
  }
 ],
 "metadata": {
  "kernelspec": {
   "display_name": "Python 3 (ipykernel)",
   "language": "python",
   "name": "python3"
  },
  "language_info": {
   "codemirror_mode": {
    "name": "ipython",
    "version": 3
   },
   "file_extension": ".py",
   "mimetype": "text/x-python",
   "name": "python",
   "nbconvert_exporter": "python",
   "pygments_lexer": "ipython3",
   "version": "3.13.9"
  }
 },
 "nbformat": 4,
 "nbformat_minor": 5
}
