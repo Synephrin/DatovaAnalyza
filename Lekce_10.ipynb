{
 "cells": [
  {
   "cell_type": "code",
   "execution_count": 1,
   "id": "13b3f351-2867-497a-b675-472e612d1640",
   "metadata": {},
   "outputs": [],
   "source": [
    "import pandas as pd"
   ]
  },
  {
   "cell_type": "code",
   "execution_count": 2,
   "id": "440a7566-58cd-4111-b310-eee0881492cc",
   "metadata": {},
   "outputs": [],
   "source": [
    "first_names = pd.read_csv(\"bank_users.csv\")[\"first_name\"]"
   ]
  },
  {
   "cell_type": "code",
   "execution_count": 3,
   "id": "02c8012f-7115-4ed7-ac7c-7119e698137b",
   "metadata": {},
   "outputs": [
    {
     "data": {
      "text/plain": [
       "0       Shawn\n",
       "1    Sergeant\n",
       "2    Ambrosio\n",
       "3        Gram\n",
       "4       Britt\n",
       "Name: first_name, dtype: object"
      ]
     },
     "execution_count": 3,
     "metadata": {},
     "output_type": "execute_result"
    }
   ],
   "source": [
    "first_names.head()"
   ]
  },
  {
   "cell_type": "code",
   "execution_count": 4,
   "id": "589cb7cb-8368-4f36-b663-f59526d092cc",
   "metadata": {},
   "outputs": [
    {
     "data": {
      "text/plain": [
       "0    58.0\n",
       "1    70.0\n",
       "2    48.0\n",
       "3    92.0\n",
       "4    78.0\n",
       "Name: bank_account, dtype: float64"
      ]
     },
     "execution_count": 4,
     "metadata": {},
     "output_type": "execute_result"
    }
   ],
   "source": [
    "bank_account = pd.read_csv(\"bank_users.csv\")[\"bank_account\"]\n",
    "bank_account.head()"
   ]
  },
  {
   "cell_type": "code",
   "execution_count": 5,
   "id": "d2e5dda1-21ed-45b3-918e-9b615fcfff3f",
   "metadata": {},
   "outputs": [
    {
     "data": {
      "text/plain": [
       "200"
      ]
     },
     "execution_count": 5,
     "metadata": {},
     "output_type": "execute_result"
    }
   ],
   "source": [
    "len(first_names)"
   ]
  },
  {
   "cell_type": "code",
   "execution_count": 6,
   "id": "68a374f2-be15-4f93-9e38-dab2c0f2aa09",
   "metadata": {},
   "outputs": [
    {
     "data": {
      "text/plain": [
       "200"
      ]
     },
     "execution_count": 6,
     "metadata": {},
     "output_type": "execute_result"
    }
   ],
   "source": [
    "len(bank_account)"
   ]
  },
  {
   "cell_type": "code",
   "execution_count": 7,
   "id": "9120e7d2-cab5-4583-a83b-23799ce3e4bf",
   "metadata": {},
   "outputs": [
    {
     "data": {
      "text/plain": [
       "pandas.core.series.Series"
      ]
     },
     "execution_count": 7,
     "metadata": {},
     "output_type": "execute_result"
    }
   ],
   "source": [
    "type(first_names)"
   ]
  },
  {
   "cell_type": "code",
   "execution_count": 8,
   "id": "e3c02936-2d00-4133-8716-fa17b043bba5",
   "metadata": {},
   "outputs": [
    {
     "data": {
      "text/plain": [
       "pandas.core.series.Series"
      ]
     },
     "execution_count": 8,
     "metadata": {},
     "output_type": "execute_result"
    }
   ],
   "source": [
    "type(bank_account)"
   ]
  },
  {
   "cell_type": "code",
   "execution_count": 10,
   "id": "350ab1d6-0cb6-4acd-92f0-2e5618c321a6",
   "metadata": {},
   "outputs": [],
   "source": [
    "# list(bank_account)"
   ]
  },
  {
   "cell_type": "code",
   "execution_count": 12,
   "id": "19751222-7f1c-4a69-8b02-054d37dbd6aa",
   "metadata": {},
   "outputs": [],
   "source": [
    "# sorted(first_names)"
   ]
  },
  {
   "cell_type": "code",
   "execution_count": 14,
   "id": "c209f65c-11a3-4dcb-a3c2-772d6504bb24",
   "metadata": {},
   "outputs": [],
   "source": [
    "# dict(first_names)"
   ]
  },
  {
   "cell_type": "code",
   "execution_count": 15,
   "id": "446f8155-01f1-4197-a9c0-e4adba840400",
   "metadata": {},
   "outputs": [
    {
     "data": {
      "text/plain": [
       "10.0"
      ]
     },
     "execution_count": 15,
     "metadata": {},
     "output_type": "execute_result"
    }
   ],
   "source": [
    "min(bank_account)"
   ]
  },
  {
   "cell_type": "code",
   "execution_count": 16,
   "id": "2a4f9d58-c0c3-4e86-aa09-e3a7bc23d3a0",
   "metadata": {},
   "outputs": [
    {
     "data": {
      "text/plain": [
       "'Adham'"
      ]
     },
     "execution_count": 16,
     "metadata": {},
     "output_type": "execute_result"
    }
   ],
   "source": [
    "min(first_names)"
   ]
  },
  {
   "cell_type": "code",
   "execution_count": 17,
   "id": "6b81cdc7-aa00-40d3-8236-9dfeb3b0a729",
   "metadata": {},
   "outputs": [
    {
     "data": {
      "text/plain": [
       "100.0"
      ]
     },
     "execution_count": 17,
     "metadata": {},
     "output_type": "execute_result"
    }
   ],
   "source": [
    "max(bank_account)"
   ]
  },
  {
   "cell_type": "code",
   "execution_count": null,
   "id": "f314c2bd-b79a-4dd4-a412-f273d6f79eef",
   "metadata": {},
   "outputs": [],
   "source": []
  }
 ],
 "metadata": {
  "kernelspec": {
   "display_name": "Python 3 (ipykernel)",
   "language": "python",
   "name": "python3"
  },
  "language_info": {
   "codemirror_mode": {
    "name": "ipython",
    "version": 3
   },
   "file_extension": ".py",
   "mimetype": "text/x-python",
   "name": "python",
   "nbconvert_exporter": "python",
   "pygments_lexer": "ipython3",
   "version": "3.13.9"
  }
 },
 "nbformat": 4,
 "nbformat_minor": 5
}
