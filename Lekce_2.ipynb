{
 "cells": [
  {
   "cell_type": "code",
   "execution_count": 2,
   "id": "61abc283-17ad-4752-8dab-72fd45e96063",
   "metadata": {},
   "outputs": [],
   "source": [
    "import pandas as pd"
   ]
  },
  {
   "cell_type": "code",
   "execution_count": 1,
   "id": "7b9cea2c-e635-4bc6-964e-5c077fbc48b4",
   "metadata": {},
   "outputs": [],
   "source": [
    "fruit_colors= {\n",
    "    \"jablko\":\"červená\",\n",
    "    \"banán\":\"žlutá\",\n",
    "    \"kiwi\":\"hnědá\",\n",
    "    \"pomeranč\":\"oranžová\"\n",
    "}"
   ]
  },
  {
   "cell_type": "code",
   "execution_count": 4,
   "id": "9d0c2829-1afe-4c27-985b-1259fdca89b3",
   "metadata": {},
   "outputs": [],
   "source": [
    "fruit_color_s = pd.Series(fruit_colors)"
   ]
  },
  {
   "cell_type": "code",
   "execution_count": 5,
   "id": "8b74b3a4-27ea-4ec3-99fa-86d9174cab08",
   "metadata": {},
   "outputs": [
    {
     "data": {
      "text/plain": [
       "jablko       červená\n",
       "banán          žlutá\n",
       "kiwi           hnědá\n",
       "pomeranč    oranžová\n",
       "dtype: object"
      ]
     },
     "execution_count": 5,
     "metadata": {},
     "output_type": "execute_result"
    }
   ],
   "source": [
    "fruit_color_s"
   ]
  },
  {
   "cell_type": "code",
   "execution_count": null,
   "id": "cdbe0fbe-7002-4792-8296-5f67549060b3",
   "metadata": {},
   "outputs": [],
   "source": []
  }
 ],
 "metadata": {
  "kernelspec": {
   "display_name": "Python 3 (ipykernel)",
   "language": "python",
   "name": "python3"
  },
  "language_info": {
   "codemirror_mode": {
    "name": "ipython",
    "version": 3
   },
   "file_extension": ".py",
   "mimetype": "text/x-python",
   "name": "python",
   "nbconvert_exporter": "python",
   "pygments_lexer": "ipython3",
   "version": "3.13.9"
  }
 },
 "nbformat": 4,
 "nbformat_minor": 5
}
