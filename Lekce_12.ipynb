{
 "cells": [
  {
   "cell_type": "code",
   "execution_count": 1,
   "id": "9fbff0d7-3194-4c6d-b612-13b95e2bffbc",
   "metadata": {},
   "outputs": [],
   "source": [
    "import pandas as pd"
   ]
  },
  {
   "cell_type": "code",
   "execution_count": 2,
   "id": "92693363-ca6d-49c3-a1de-0eef578097aa",
   "metadata": {},
   "outputs": [],
   "source": [
    "last_names = pd.read_csv(\"bank_users.csv\")[\"last_name\"]"
   ]
  },
  {
   "cell_type": "code",
   "execution_count": 3,
   "id": "36b83960-1095-45e4-be37-7419d69cbea6",
   "metadata": {},
   "outputs": [],
   "source": [
    "bank_account = pd.read_csv(\"bank_users.csv\")[\"bank_account\"]"
   ]
  },
  {
   "cell_type": "code",
   "execution_count": 4,
   "id": "b33e6bb6-f4ee-48cd-afd5-a8cf3fff182c",
   "metadata": {},
   "outputs": [
    {
     "data": {
      "text/plain": [
       "0    58.0\n",
       "1    70.0\n",
       "2    48.0\n",
       "3    92.0\n",
       "4    78.0\n",
       "Name: bank_account, dtype: float64"
      ]
     },
     "execution_count": 4,
     "metadata": {},
     "output_type": "execute_result"
    }
   ],
   "source": [
    "bank_account.head()"
   ]
  },
  {
   "cell_type": "code",
   "execution_count": 5,
   "id": "df90e67b-4344-4529-9f14-bce722b37dc3",
   "metadata": {},
   "outputs": [
    {
     "data": {
      "text/plain": [
       "63         Adamec\n",
       "173      Alyokhin\n",
       "184      Ancliffe\n",
       "116         Artis\n",
       "39            Ary\n",
       "          ...    \n",
       "191        Wraith\n",
       "71     Yakobovicz\n",
       "188       Yglesia\n",
       "15       Youngman\n",
       "82        Yushkin\n",
       "Name: last_name, Length: 200, dtype: object"
      ]
     },
     "execution_count": 5,
     "metadata": {},
     "output_type": "execute_result"
    }
   ],
   "source": [
    "last_names.sort_values()"
   ]
  },
  {
   "cell_type": "code",
   "execution_count": 6,
   "id": "27203715-bc00-4d98-a5e9-09572a5ad410",
   "metadata": {},
   "outputs": [
    {
     "data": {
      "text/plain": [
       "34     10.0\n",
       "65     10.0\n",
       "174    10.0\n",
       "125    11.0\n",
       "89     11.0\n",
       "       ... \n",
       "151     NaN\n",
       "166     NaN\n",
       "169     NaN\n",
       "197     NaN\n",
       "199     NaN\n",
       "Name: bank_account, Length: 200, dtype: float64"
      ]
     },
     "execution_count": 6,
     "metadata": {},
     "output_type": "execute_result"
    }
   ],
   "source": [
    "bank_account.sort_values()"
   ]
  },
  {
   "cell_type": "code",
   "execution_count": 7,
   "id": "aaeec99f-df19-430b-9730-c020c05514d9",
   "metadata": {},
   "outputs": [
    {
     "data": {
      "text/plain": [
       "82        Yushkin\n",
       "15       Youngman\n",
       "188       Yglesia\n",
       "71     Yakobovicz\n",
       "191        Wraith\n",
       "          ...    \n",
       "39            Ary\n",
       "116         Artis\n",
       "184      Ancliffe\n",
       "173      Alyokhin\n",
       "63         Adamec\n",
       "Name: last_name, Length: 200, dtype: object"
      ]
     },
     "execution_count": 7,
     "metadata": {},
     "output_type": "execute_result"
    }
   ],
   "source": [
    "last_names.sort_values(ascending=False)"
   ]
  },
  {
   "cell_type": "code",
   "execution_count": 8,
   "id": "823df827-15bf-452b-aaf8-8204a48fe62c",
   "metadata": {},
   "outputs": [
    {
     "data": {
      "text/plain": [
       "49     100.0\n",
       "127    100.0\n",
       "51      98.0\n",
       "87      97.0\n",
       "96      97.0\n",
       "       ...  \n",
       "151      NaN\n",
       "166      NaN\n",
       "169      NaN\n",
       "197      NaN\n",
       "199      NaN\n",
       "Name: bank_account, Length: 200, dtype: float64"
      ]
     },
     "execution_count": 8,
     "metadata": {},
     "output_type": "execute_result"
    }
   ],
   "source": [
    "bank_account.sort_values(ascending=False)"
   ]
  },
  {
   "cell_type": "code",
   "execution_count": 9,
   "id": "ec6d52e1-3d4d-4f53-9fb7-7f29f277aa3f",
   "metadata": {},
   "outputs": [
    {
     "data": {
      "text/plain": [
       "<bound method NDFrame.head of 49     100.0\n",
       "127    100.0\n",
       "51      98.0\n",
       "87      97.0\n",
       "96      97.0\n",
       "       ...  \n",
       "151      NaN\n",
       "166      NaN\n",
       "169      NaN\n",
       "197      NaN\n",
       "199      NaN\n",
       "Name: bank_account, Length: 200, dtype: float64>"
      ]
     },
     "execution_count": 9,
     "metadata": {},
     "output_type": "execute_result"
    }
   ],
   "source": [
    "bank_account.sort_values(ascending=False).head"
   ]
  },
  {
   "cell_type": "code",
   "execution_count": 10,
   "id": "8eb8178a-188e-421f-98fc-9f334b2ee487",
   "metadata": {},
   "outputs": [
    {
     "data": {
      "text/plain": [
       "<bound method NDFrame.tail of 49     100.0\n",
       "127    100.0\n",
       "51      98.0\n",
       "87      97.0\n",
       "96      97.0\n",
       "       ...  \n",
       "151      NaN\n",
       "166      NaN\n",
       "169      NaN\n",
       "197      NaN\n",
       "199      NaN\n",
       "Name: bank_account, Length: 200, dtype: float64>"
      ]
     },
     "execution_count": 10,
     "metadata": {},
     "output_type": "execute_result"
    }
   ],
   "source": [
    "bank_account.sort_values(ascending=False).tail"
   ]
  },
  {
   "cell_type": "code",
   "execution_count": null,
   "id": "8c63253c-cc52-41d5-8418-1feb35b0d37d",
   "metadata": {},
   "outputs": [],
   "source": []
  }
 ],
 "metadata": {
  "kernelspec": {
   "display_name": "Python 3 (ipykernel)",
   "language": "python",
   "name": "python3"
  },
  "language_info": {
   "codemirror_mode": {
    "name": "ipython",
    "version": 3
   },
   "file_extension": ".py",
   "mimetype": "text/x-python",
   "name": "python",
   "nbconvert_exporter": "python",
   "pygments_lexer": "ipython3",
   "version": "3.13.9"
  }
 },
 "nbformat": 4,
 "nbformat_minor": 5
}
