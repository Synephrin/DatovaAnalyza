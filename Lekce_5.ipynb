{
 "cells": [
  {
   "cell_type": "code",
   "execution_count": 1,
   "id": "450ed294-7410-432c-b178-c33526b297ee",
   "metadata": {},
   "outputs": [],
   "source": [
    "import pandas as pd"
   ]
  },
  {
   "cell_type": "code",
   "execution_count": 2,
   "id": "ecefaa3e-48f7-4443-be6a-c4836020c096",
   "metadata": {},
   "outputs": [
    {
     "data": {
      "text/plain": [
       "0           smartphone\n",
       "1               laptop\n",
       "2                 dron\n",
       "3    virtuální realita\n",
       "dtype: object"
      ]
     },
     "execution_count": 2,
     "metadata": {},
     "output_type": "execute_result"
    }
   ],
   "source": [
    "technology_list = [\"smartphone\",\"laptop\",\"dron\",\"virtuální realita\"]\n",
    "technology_list_series = pd.Series(technology_list)\n",
    "technology_list_series"
   ]
  },
  {
   "cell_type": "code",
   "execution_count": 3,
   "id": "3bf9a0af-4617-4b20-8c4c-3dd221ebf18f",
   "metadata": {},
   "outputs": [
    {
     "data": {
      "text/plain": [
       "0    1\n",
       "1    1\n",
       "2    0\n",
       "3    2\n",
       "dtype: int64"
      ]
     },
     "execution_count": 3,
     "metadata": {},
     "output_type": "execute_result"
    }
   ],
   "source": [
    "technology_list_series.str.count(\"a\")"
   ]
  },
  {
   "cell_type": "code",
   "execution_count": 5,
   "id": "2b576203-a605-415c-9bb0-14f4776664aa",
   "metadata": {},
   "outputs": [
    {
     "data": {
      "text/plain": [
       "4"
      ]
     },
     "execution_count": 5,
     "metadata": {},
     "output_type": "execute_result"
    }
   ],
   "source": [
    "technology_list_series.size"
   ]
  },
  {
   "cell_type": "code",
   "execution_count": 7,
   "id": "a354e2c4-f378-43da-8f7f-52256f388540",
   "metadata": {},
   "outputs": [
    {
     "data": {
      "text/plain": [
       "True"
      ]
     },
     "execution_count": 7,
     "metadata": {},
     "output_type": "execute_result"
    }
   ],
   "source": [
    "technology_list_series.is_unique"
   ]
  },
  {
   "cell_type": "code",
   "execution_count": 8,
   "id": "c8aa1d09-b442-4e44-8ea2-a59ea16f3b2a",
   "metadata": {},
   "outputs": [
    {
     "data": {
      "text/plain": [
       "array(['smartphone', 'laptop', 'dron', 'virtuální realita'], dtype=object)"
      ]
     },
     "execution_count": 8,
     "metadata": {},
     "output_type": "execute_result"
    }
   ],
   "source": [
    "technology_list_series.values"
   ]
  },
  {
   "cell_type": "code",
   "execution_count": 9,
   "id": "31656508-0f68-412b-8969-d92a612dff34",
   "metadata": {},
   "outputs": [
    {
     "data": {
      "text/plain": [
       "RangeIndex(start=0, stop=4, step=1)"
      ]
     },
     "execution_count": 9,
     "metadata": {},
     "output_type": "execute_result"
    }
   ],
   "source": [
    "technology_list_series.index"
   ]
  },
  {
   "cell_type": "code",
   "execution_count": null,
   "id": "86712c46-cc9b-45da-a502-37a34dcafc08",
   "metadata": {},
   "outputs": [],
   "source": []
  }
 ],
 "metadata": {
  "kernelspec": {
   "display_name": "Python 3 (ipykernel)",
   "language": "python",
   "name": "python3"
  },
  "language_info": {
   "codemirror_mode": {
    "name": "ipython",
    "version": 3
   },
   "file_extension": ".py",
   "mimetype": "text/x-python",
   "name": "python",
   "nbconvert_exporter": "python",
   "pygments_lexer": "ipython3",
   "version": "3.13.9"
  }
 },
 "nbformat": 4,
 "nbformat_minor": 5
}
