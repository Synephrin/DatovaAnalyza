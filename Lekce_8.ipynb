{
 "cells": [
  {
   "cell_type": "code",
   "execution_count": 1,
   "id": "fdff1d2f-8ffe-4922-ba4f-72c3f9128079",
   "metadata": {},
   "outputs": [],
   "source": [
    "import pandas as pd"
   ]
  },
  {
   "cell_type": "code",
   "execution_count": 2,
   "id": "26d136c1-a493-4a9e-bfaf-ac088080c202",
   "metadata": {},
   "outputs": [],
   "source": [
    "bank_users = pd.read_csv(\"bank_users.csv\")"
   ]
  },
  {
   "cell_type": "code",
   "execution_count": 4,
   "id": "679ad953-9a88-4640-b097-24007c22a385",
   "metadata": {},
   "outputs": [
    {
     "data": {
      "text/plain": [
       "pandas.core.frame.DataFrame"
      ]
     },
     "execution_count": 4,
     "metadata": {},
     "output_type": "execute_result"
    }
   ],
   "source": [
    "type(bank_users)"
   ]
  },
  {
   "cell_type": "code",
   "execution_count": 5,
   "id": "d17481e1-0ad5-4504-823a-a80fb0761d75",
   "metadata": {},
   "outputs": [],
   "source": [
    "ba = bank_users[\"bank_account\"]"
   ]
  },
  {
   "cell_type": "code",
   "execution_count": 6,
   "id": "eed0c5f7-0fed-41af-9762-ac8941a80ea7",
   "metadata": {},
   "outputs": [
    {
     "name": "stdout",
     "output_type": "stream",
     "text": [
      "0      58.0\n",
      "1      70.0\n",
      "2      48.0\n",
      "3      92.0\n",
      "4      78.0\n",
      "       ... \n",
      "195    90.0\n",
      "196    56.0\n",
      "197     NaN\n",
      "198    87.0\n",
      "199     NaN\n",
      "Name: bank_account, Length: 200, dtype: float64\n"
     ]
    }
   ],
   "source": [
    "print(ba)"
   ]
  },
  {
   "cell_type": "code",
   "execution_count": 7,
   "id": "c4c4f80f-d31b-43f7-9d94-1d042fc985ed",
   "metadata": {},
   "outputs": [
    {
     "data": {
      "text/plain": [
       "pandas.core.series.Series"
      ]
     },
     "execution_count": 7,
     "metadata": {},
     "output_type": "execute_result"
    }
   ],
   "source": [
    "type(ba)"
   ]
  },
  {
   "cell_type": "code",
   "execution_count": 8,
   "id": "666d420e-b87e-4e31-90be-2f97aa8e45cb",
   "metadata": {},
   "outputs": [
    {
     "data": {
      "text/plain": [
       "np.float64(56.357541899441344)"
      ]
     },
     "execution_count": 8,
     "metadata": {},
     "output_type": "execute_result"
    }
   ],
   "source": [
    "ba.mean()"
   ]
  },
  {
   "cell_type": "code",
   "execution_count": 9,
   "id": "5fdcc7ed-e882-41ca-bb18-c39188d5a13e",
   "metadata": {},
   "outputs": [
    {
     "data": {
      "text/plain": [
       "200"
      ]
     },
     "execution_count": 9,
     "metadata": {},
     "output_type": "execute_result"
    }
   ],
   "source": [
    "ba.size"
   ]
  },
  {
   "cell_type": "code",
   "execution_count": 11,
   "id": "ca3edab9-4705-41e2-a353-55232e893d87",
   "metadata": {},
   "outputs": [
    {
     "data": {
      "text/html": [
       "<div>\n",
       "<style scoped>\n",
       "    .dataframe tbody tr th:only-of-type {\n",
       "        vertical-align: middle;\n",
       "    }\n",
       "\n",
       "    .dataframe tbody tr th {\n",
       "        vertical-align: top;\n",
       "    }\n",
       "\n",
       "    .dataframe thead th {\n",
       "        text-align: right;\n",
       "    }\n",
       "</style>\n",
       "<table border=\"1\" class=\"dataframe\">\n",
       "  <thead>\n",
       "    <tr style=\"text-align: right;\">\n",
       "      <th></th>\n",
       "      <th>first_name</th>\n",
       "      <th>last_name</th>\n",
       "    </tr>\n",
       "  </thead>\n",
       "  <tbody>\n",
       "    <tr>\n",
       "      <th>0</th>\n",
       "      <td>Shawn</td>\n",
       "      <td>Gotts</td>\n",
       "    </tr>\n",
       "    <tr>\n",
       "      <th>1</th>\n",
       "      <td>Sergeant</td>\n",
       "      <td>Linsey</td>\n",
       "    </tr>\n",
       "    <tr>\n",
       "      <th>2</th>\n",
       "      <td>Ambrosio</td>\n",
       "      <td>Gorton</td>\n",
       "    </tr>\n",
       "    <tr>\n",
       "      <th>3</th>\n",
       "      <td>Gram</td>\n",
       "      <td>Steanyng</td>\n",
       "    </tr>\n",
       "    <tr>\n",
       "      <th>4</th>\n",
       "      <td>Britt</td>\n",
       "      <td>Cockaday</td>\n",
       "    </tr>\n",
       "    <tr>\n",
       "      <th>...</th>\n",
       "      <td>...</td>\n",
       "      <td>...</td>\n",
       "    </tr>\n",
       "    <tr>\n",
       "      <th>195</th>\n",
       "      <td>Franz</td>\n",
       "      <td>Oppy</td>\n",
       "    </tr>\n",
       "    <tr>\n",
       "      <th>196</th>\n",
       "      <td>Adolphus</td>\n",
       "      <td>Labbati</td>\n",
       "    </tr>\n",
       "    <tr>\n",
       "      <th>197</th>\n",
       "      <td>Aurelea</td>\n",
       "      <td>Cordery</td>\n",
       "    </tr>\n",
       "    <tr>\n",
       "      <th>198</th>\n",
       "      <td>Armstrong</td>\n",
       "      <td>Laughren</td>\n",
       "    </tr>\n",
       "    <tr>\n",
       "      <th>199</th>\n",
       "      <td>Henrietta</td>\n",
       "      <td>Peckitt</td>\n",
       "    </tr>\n",
       "  </tbody>\n",
       "</table>\n",
       "<p>200 rows × 2 columns</p>\n",
       "</div>"
      ],
      "text/plain": [
       "    first_name last_name\n",
       "0        Shawn     Gotts\n",
       "1     Sergeant    Linsey\n",
       "2     Ambrosio    Gorton\n",
       "3         Gram  Steanyng\n",
       "4        Britt  Cockaday\n",
       "..         ...       ...\n",
       "195      Franz      Oppy\n",
       "196   Adolphus   Labbati\n",
       "197    Aurelea   Cordery\n",
       "198  Armstrong  Laughren\n",
       "199  Henrietta   Peckitt\n",
       "\n",
       "[200 rows x 2 columns]"
      ]
     },
     "execution_count": 11,
     "metadata": {},
     "output_type": "execute_result"
    }
   ],
   "source": [
    "bank_users_1 = pd.read_csv(\"bank_users.csv\", usecols=[\"first_name\",\"last_name\"])\n",
    "bank_users_1"
   ]
  },
  {
   "cell_type": "code",
   "execution_count": 12,
   "id": "f6ca8514-1148-4650-a260-0a3d3b0e11a5",
   "metadata": {},
   "outputs": [
    {
     "data": {
      "text/plain": [
       "0          Shawn\n",
       "1       Sergeant\n",
       "2       Ambrosio\n",
       "3           Gram\n",
       "4          Britt\n",
       "         ...    \n",
       "195        Franz\n",
       "196     Adolphus\n",
       "197      Aurelea\n",
       "198    Armstrong\n",
       "199    Henrietta\n",
       "Name: first_name, Length: 200, dtype: object"
      ]
     },
     "execution_count": 12,
     "metadata": {},
     "output_type": "execute_result"
    }
   ],
   "source": [
    "bank_users_1[\"first_name\"]"
   ]
  },
  {
   "cell_type": "code",
   "execution_count": null,
   "id": "36038666-5361-4331-bbb1-5a992d5ea814",
   "metadata": {},
   "outputs": [],
   "source": []
  }
 ],
 "metadata": {
  "kernelspec": {
   "display_name": "Python 3 (ipykernel)",
   "language": "python",
   "name": "python3"
  },
  "language_info": {
   "codemirror_mode": {
    "name": "ipython",
    "version": 3
   },
   "file_extension": ".py",
   "mimetype": "text/x-python",
   "name": "python",
   "nbconvert_exporter": "python",
   "pygments_lexer": "ipython3",
   "version": "3.13.9"
  }
 },
 "nbformat": 4,
 "nbformat_minor": 5
}
