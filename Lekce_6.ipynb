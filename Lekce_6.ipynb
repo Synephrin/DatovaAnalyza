{
 "cells": [
  {
   "cell_type": "code",
   "execution_count": 1,
   "id": "89835969-24d4-478c-b9a7-70306ebc57e6",
   "metadata": {},
   "outputs": [],
   "source": [
    "import pandas as pd"
   ]
  },
  {
   "cell_type": "code",
   "execution_count": 2,
   "id": "368c8785-9236-421c-8c40-07f83cd7a8ce",
   "metadata": {},
   "outputs": [],
   "source": [
    "days = [\"po\",\"út\",\"st\",\"čt\",\"pá\"]\n",
    "tasks = [\"uklidit\",\"vynést koš\",\"python\",\"pandas\",\"javascript\"]"
   ]
  },
  {
   "cell_type": "code",
   "execution_count": 3,
   "id": "858ceb61-152c-4d80-ba00-ea2fe626e3af",
   "metadata": {},
   "outputs": [
    {
     "data": {
      "text/plain": [
       "uklidit       po\n",
       "vynést koš    út\n",
       "python        st\n",
       "pandas        čt\n",
       "javascript    pá\n",
       "dtype: object"
      ]
     },
     "execution_count": 3,
     "metadata": {},
     "output_type": "execute_result"
    }
   ],
   "source": [
    "pd.Series(days, tasks)"
   ]
  },
  {
   "cell_type": "code",
   "execution_count": 4,
   "id": "970c52bd-903d-4532-ba0d-8edb33919bee",
   "metadata": {},
   "outputs": [
    {
     "data": {
      "text/plain": [
       "po       uklidit\n",
       "út    vynést koš\n",
       "st        python\n",
       "čt        pandas\n",
       "pá    javascript\n",
       "dtype: object"
      ]
     },
     "execution_count": 4,
     "metadata": {},
     "output_type": "execute_result"
    }
   ],
   "source": [
    "pd.Series(tasks, days)"
   ]
  },
  {
   "cell_type": "code",
   "execution_count": 5,
   "id": "278e2a73-d9eb-449f-804d-34d97dbfbaf5",
   "metadata": {},
   "outputs": [
    {
     "data": {
      "text/plain": [
       "po       uklidit\n",
       "út    vynést koš\n",
       "st        python\n",
       "čt        pandas\n",
       "pá    javascript\n",
       "dtype: object"
      ]
     },
     "execution_count": 5,
     "metadata": {},
     "output_type": "execute_result"
    }
   ],
   "source": [
    "pd.Series(data=tasks, index=days)"
   ]
  },
  {
   "cell_type": "code",
   "execution_count": null,
   "id": "87324ce7-ccdd-42af-97d8-ba80f42d8783",
   "metadata": {},
   "outputs": [],
   "source": []
  }
 ],
 "metadata": {
  "kernelspec": {
   "display_name": "Python 3 (ipykernel)",
   "language": "python",
   "name": "python3"
  },
  "language_info": {
   "codemirror_mode": {
    "name": "ipython",
    "version": 3
   },
   "file_extension": ".py",
   "mimetype": "text/x-python",
   "name": "python",
   "nbconvert_exporter": "python",
   "pygments_lexer": "ipython3",
   "version": "3.13.9"
  }
 },
 "nbformat": 4,
 "nbformat_minor": 5
}
